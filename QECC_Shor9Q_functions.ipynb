{
 "cells": [
  {
   "cell_type": "markdown",
   "id": "designing-evaluation",
   "metadata": {},
   "source": [
    "# _QECC:_ Shor's 9-qubit algorithm\n",
    "\n",
    "Here we define some useful functions and gates in order to build our QECC for the Shor's 9-qubit algorithm.\n",
    "\n",
    "---\n",
    "\n",
    "**Author: Sebastián V. Romero** ([sebastian.vidal@rai.usc.es](mailto:sebastian.vidal@rai.usc.es))\n",
    "\n",
    "*Last update:* 4th April 2021"
   ]
  },
  {
   "cell_type": "markdown",
   "id": "polished-skill",
   "metadata": {},
   "source": [
    "## Package imports"
   ]
  },
  {
   "cell_type": "code",
   "execution_count": 1,
   "id": "molecular-plain",
   "metadata": {},
   "outputs": [],
   "source": [
    "import random\n",
    "import numpy  as np\n",
    "\n",
    "from qiskit import QuantumCircuit, AncillaRegister, QuantumRegister, execute, Aer"
   ]
  },
  {
   "cell_type": "markdown",
   "id": "ranking-thought",
   "metadata": {},
   "source": [
    "## Definition of some previous functions"
   ]
  },
  {
   "cell_type": "markdown",
   "id": "micro-scheduling",
   "metadata": {},
   "source": [
    "### normalize_state(a, b)\n",
    "\n",
    "In order to build an initial entangled and normalized state defined as $|\\phi\\rangle = a |0\\rangle + b |1\\rangle$, firstly we need to define our $a$ and $b$ complex constants, which must obey that $|a|^2 + |b|^2 = 1$. The following function use two arguments as input, computes the norm and divide both given constants by this norm in order to normalize it. It returns a $|\\phi\\rangle = |0\\rangle$ by default."
   ]
  },
  {
   "cell_type": "code",
   "execution_count": 2,
   "id": "rotary-champion",
   "metadata": {},
   "outputs": [],
   "source": [
    "def normalize_state(a = 1, b = 0):\n",
    "    \n",
    "    norm = np.sqrt(a * np.conjugate(a) + b * np.conjugate(b))\n",
    "    \n",
    "    return [a / norm, b / norm]"
   ]
  },
  {
   "cell_type": "markdown",
   "id": "korean-checkout",
   "metadata": {},
   "source": [
    "### modulus_and_phase(a)\n",
    "\n",
    "Given a complex constant $a$, it computes its modulus and the argument in radians."
   ]
  },
  {
   "cell_type": "code",
   "execution_count": 3,
   "id": "automated-breakdown",
   "metadata": {},
   "outputs": [],
   "source": [
    "def modulus_and_phase(a):\n",
    "    \n",
    "    return (np.absolute(a), np.angle(a))"
   ]
  },
  {
   "cell_type": "markdown",
   "id": "numerical-adult",
   "metadata": {},
   "source": [
    "### int_to_binary(value, n_bits = 17, reverse = True)\n",
    "\n",
    "Given an integer value *a* as input, it returns its binary expression with a string of *n_bits*. It reverses the output by default due to LSB Qiskit convention."
   ]
  },
  {
   "cell_type": "code",
   "execution_count": 4,
   "id": "declared-bookmark",
   "metadata": {},
   "outputs": [],
   "source": [
    "def int_to_binary(value, n_bits = 17, reverse = True):\n",
    "    \n",
    "    value = int(value)\n",
    "    if value != 0:\n",
    "        bound = int(np.ceil(np.log2(value)))\n",
    "        if n_bits < bound: n_bits = bound\n",
    "    \n",
    "    binary_format = '{0:0' + str(n_bits) + 'b}'\n",
    "    binary = binary_format.format(value)\n",
    "    \n",
    "    if reverse: return binary[ : : -1]\n",
    "    else: return binary"
   ]
  },
  {
   "cell_type": "markdown",
   "id": "collected-halloween",
   "metadata": {},
   "source": [
    "### binary_to_int(value, reverse = True)\n",
    "\n",
    "Given an integer value *value* in binary (string) as input, it returns its integer expression. It reverses the entry by default due to LSB Qiskit convention."
   ]
  },
  {
   "cell_type": "code",
   "execution_count": 5,
   "id": "alert-columbia",
   "metadata": {},
   "outputs": [],
   "source": [
    "def binary_to_int(value, reverse = True):\n",
    "    \n",
    "    if reverse: value = value[ : : -1]\n",
    "\n",
    "    return int(value, 2)"
   ]
  },
  {
   "cell_type": "markdown",
   "id": "prime-blind",
   "metadata": {},
   "source": [
    "### get_state(circuit, precision = 10, fancy_print = False)\n",
    "\n",
    "After a circuit simulation, get the first qubit state, corresponding to our $|\\phi\\rangle = a |0\\rangle + b |1\\rangle$ entangled state. You can handle the precision of the output in order to avoid annoying negligible values by rounding them up to *precision* order."
   ]
  },
  {
   "cell_type": "code",
   "execution_count": 6,
   "id": "known-korean",
   "metadata": {},
   "outputs": [],
   "source": [
    "def get_state(circuit, precision = 10, fancy_print = False):\n",
    "    \n",
    "    # Let's simulate our circuit in order to get the final state vector!\n",
    "    svsim = Aer.get_backend('statevector_simulator')\n",
    "\n",
    "    # Do the simulation, return the result and get the state vector\n",
    "    result = execute(circuit, svsim).result().get_statevector()\n",
    "    \n",
    "    if int(precision) < 8: precision = 8\n",
    "    \n",
    "    result = result.round(precision)\n",
    "    \n",
    "    # Returns non-zero values\n",
    "    state_indices = result.nonzero()[0]\n",
    "    \n",
    "    states = np.empty(0)\n",
    "    for index in state_indices:\n",
    "        binary_state = int_to_binary(index)\n",
    "        states = np.append(states , [result[index], binary_state])\n",
    "    \n",
    "    if fancy_print:\n",
    "        string = ''\n",
    "        for index in range(0, len(states), 2):\n",
    "            coef, bstate = states[index], states[index + 1]\n",
    "            string = string + f'{coef} |{bstate}>   '\n",
    "        print(string)\n",
    "    \n",
    "    return states"
   ]
  },
  {
   "cell_type": "markdown",
   "id": "acoustic-hayes",
   "metadata": {},
   "source": [
    "## Define some quantum gates and noise\n",
    "\n",
    "Once drawn our circuit, it might be helpful to follow the order of the qubits labelled in the box in order to notice which operation is being implemented in each qubit."
   ]
  },
  {
   "cell_type": "markdown",
   "id": "brown-grounds",
   "metadata": {},
   "source": [
    "### random_noise(gate_label = 'Noise', reveal_error = False)\n",
    "\n",
    "Add some random noise into some of the selected bits to corrupt the input state."
   ]
  },
  {
   "cell_type": "code",
   "execution_count": 7,
   "id": "ahead-python",
   "metadata": {},
   "outputs": [],
   "source": [
    "def random_noise(gate_label = 'Noise', reveal_error = False):\n",
    "    \n",
    "    # Our circuit has 9-qubits\n",
    "    gate_circuit = QuantumCircuit(9)\n",
    "    \n",
    "    # Define randomly the number of errors to apply from 0 (no errors) up to 2\n",
    "    number_of_errors  = random.choice(range(3))\n",
    "    types_of_errors   = ['X', 'Y', 'Z']\n",
    "    qubits_wo_errors  = list(range(9))\n",
    "    qpacks_wo_errors  = list(range(9))\n",
    "    \n",
    "    global gate_reveal_label\n",
    "    gate_reveal_label = 'I' * 9\n",
    "    \n",
    "    \n",
    "    def str_assignment(string, index, char):\n",
    "        \n",
    "        string = list(string)\n",
    "        string[index] = str(char)\n",
    "        string = ''.join(string)\n",
    "        \n",
    "        return string\n",
    "\n",
    "    \n",
    "    while number_of_errors > 0:\n",
    "        qubit_assigned = random.choice(qpacks_wo_errors)\n",
    "        type_error     = random.choice(types_of_errors)\n",
    "        \n",
    "        number_of_errors -= 1\n",
    "        qubits_wo_errors.remove(qubit_assigned)\n",
    "\n",
    "        gate_reveal_label = str_assignment(gate_reveal_label, qubit_assigned, type_error)\n",
    "\n",
    "        # Remove 3-qubits packs after assign error to qubit in it\n",
    "        if qubit_assigned in list(range(3)):\n",
    "            qpacks_wo_errors = [elem for elem in qpacks_wo_errors if elem > 2]\n",
    "        elif qubit_assigned in list(range(3, 6)):\n",
    "            qpacks_wo_errors = [elem for elem in qpacks_wo_errors if (elem < 3 or elem > 5)]\n",
    "        else:\n",
    "            qpacks_wo_errors = [elem for elem in qpacks_wo_errors if elem < 6]\n",
    "\n",
    "        # Can't repeat quantum error gate applied\n",
    "        if type_error == 'Y':\n",
    "            gate_circuit.y(qubit_assigned)\n",
    "            break\n",
    "        elif type_error == 'X':\n",
    "            gate_circuit.x(qubit_assigned)\n",
    "            try: # Maybe we don't have this errors to remove\n",
    "                types_of_errors.remove('X')\n",
    "                types_of_errors.remove('Y')\n",
    "            except:\n",
    "                pass\n",
    "        else:\n",
    "            gate_circuit.z(qubit_assigned)\n",
    "            try: # Maybe we don't have this errors to remove\n",
    "                types_of_errors.remove('Y')\n",
    "                types_of_errors.remove('Z')\n",
    "            except:\n",
    "                pass\n",
    "    \n",
    "    # Assign identity gate for the rest of qubits\n",
    "    for qubit in qubits_wo_errors:\n",
    "        gate_circuit.i(qubit)\n",
    "    \n",
    "    gate = gate_circuit.to_gate()\n",
    "    \n",
    "    if reveal_error:\n",
    "        gate.label = 'Noise:\\n' + gate_reveal_label\n",
    "    else:\n",
    "        gate.label = gate_label\n",
    "    \n",
    "    return gate"
   ]
  },
  {
   "cell_type": "markdown",
   "id": "surface-waste",
   "metadata": {},
   "source": [
    "### check_error_to_ancilla(state, error = None)\n",
    "\n",
    "Check if the ancillas expected by the error applied is the same as the ancillas that we get through the given *state*. You can set your custom error and check if it's a good guess or not. Use a 9-character string input where:\n",
    "\n",
    "- *I* stands for identity gate $I$.\n",
    "- *X* stands for $X$-gate.\n",
    "- *Y* stands for $Y$-gate.\n",
    "- *Z* stands for $Z$-gate.\n",
    "\n",
    "Remember that this circuit only corrects one bit and/or phase-flip error or leave the state as it entered if no error is applied, so be careful with the *error* given (remember that this circuit has a distance of $d = 3$). It takes *None* by default in order to compare the expected ancillas for the errors applied by the *random_noise* function and the ancillas taken from the *state* result."
   ]
  },
  {
   "cell_type": "code",
   "execution_count": 8,
   "id": "banner-composition",
   "metadata": {},
   "outputs": [],
   "source": [
    "def check_error_to_ancilla(state, error = None):\n",
    "    \n",
    "    if error is None: error = gate_reveal_label\n",
    "    \n",
    "    binary = state[1]\n",
    "    \n",
    "    error_types    = ['X0', 'X1', 'X2', 'Z ']\n",
    "    state_ancillas = [binary[3 : 5], binary[8 : 10], binary[13 : 15], binary[-2 : ]]\n",
    "    \n",
    "    ancillas = {}\n",
    "    for key, anc in zip(error_types, state_ancillas): ancillas[key] = anc  \n",
    "    \n",
    "    first_pack  = list(range(0, 7, 3))\n",
    "    second_pack = list(range(1, 8, 3))\n",
    "    third_pack  = list(range(2, 9, 3))\n",
    "    \n",
    "    \n",
    "    def ancilla_label(value):\n",
    "        \n",
    "        if value == 0: return '10'\n",
    "        elif value == 1: return '11'\n",
    "        else: return '01'\n",
    "    \n",
    "    \n",
    "    expected = {}\n",
    "    for key in error_types: expected[key] = '00'\n",
    "    \n",
    "    for qubit, gate in enumerate(list(error)):\n",
    "        \n",
    "        n_pack = qubit // 3\n",
    "        key    = 'X' + str(n_pack)\n",
    "        n_xerr = qubit % 3\n",
    "        \n",
    "        if gate == 'I': continue\n",
    "        elif gate == 'X':\n",
    "            if qubit in first_pack:\n",
    "                expected[key] = ancilla_label(n_xerr)\n",
    "            elif qubit in second_pack:\n",
    "                expected[key] = ancilla_label(n_xerr)\n",
    "            else:\n",
    "                expected[key] = ancilla_label(n_xerr)\n",
    "        elif gate == 'Z':\n",
    "            expected['Z '] = ancilla_label(n_pack)\n",
    "        else:\n",
    "            expected['Z '] = ancilla_label(n_pack)\n",
    "            if qubit in first_pack:\n",
    "                expected[key] = ancilla_label(n_xerr)\n",
    "            elif qubit in second_pack:\n",
    "                expected[key] = ancilla_label(n_xerr)\n",
    "            else:\n",
    "                expected[key] = ancilla_label(n_xerr)\n",
    "    \n",
    "    print('Error  Anc. expected  Anc. state  Equal?\\n' + '-' * 40)\n",
    "    for key in error_types:\n",
    "        print(f' {key}     {expected[key]}             {ancillas[key]}          {expected[key] == ancillas[key]}')"
   ]
  },
  {
   "cell_type": "markdown",
   "id": "boxed-example",
   "metadata": {},
   "source": [
    "### cnotnot(gate_label = 'CNOTNOT')\n",
    "\n",
    "Define a $CNOTNOT$ (or $CXX$) quantum gate given by a controller and two $X$-gates."
   ]
  },
  {
   "cell_type": "code",
   "execution_count": 9,
   "id": "sticky-dining",
   "metadata": {},
   "outputs": [],
   "source": [
    "def cnotnot(gate_label = 'CNOTNOT'):\n",
    "    \n",
    "    gate_circuit = QuantumCircuit(3)\n",
    "    gate_circuit.cnot(0, 1)\n",
    "    gate_circuit.cnot(0, 2)\n",
    "    \n",
    "    gate = gate_circuit.to_gate()\n",
    "    \n",
    "    gate.label = gate_label\n",
    "    \n",
    "    return gate"
   ]
  },
  {
   "cell_type": "markdown",
   "id": "appropriate-adapter",
   "metadata": {},
   "source": [
    "### czz(gate_label = 'CZZ')\n",
    "\n",
    "Define a $CZZ$ quantum gate given by a controller and two $Z$-gates (used in bit-flip correction)."
   ]
  },
  {
   "cell_type": "code",
   "execution_count": 10,
   "id": "diagnostic-medline",
   "metadata": {},
   "outputs": [],
   "source": [
    "def czz(gate_label = 'CZZ'):\n",
    "    \n",
    "    gate_circuit = QuantumCircuit(3)\n",
    "    gate_circuit.cz(0, 1)\n",
    "    gate_circuit.cz(0, 2)\n",
    "    \n",
    "    gate = gate_circuit.to_gate()\n",
    "    \n",
    "    gate.label = gate_label\n",
    "    \n",
    "    return gate"
   ]
  },
  {
   "cell_type": "markdown",
   "id": "alleged-export",
   "metadata": {},
   "source": [
    "### invccnot(gate_label = 'invCCNOT')\n",
    "\n",
    "Define a $\\mathrm{inv}CCNOT$ quantum gate given by an inverted controller (on-state if it passes a 0, the same as $XCX$ quantum gate), a controller and a $X$-gate. If you want a $C\\mathrm{inv}CNOT$, just pass the first qubit as the second one and viceversa. Used in bit-flip correction."
   ]
  },
  {
   "cell_type": "code",
   "execution_count": 11,
   "id": "charged-computer",
   "metadata": {},
   "outputs": [],
   "source": [
    "def invccnot(gate_label = 'invCCNOT'):\n",
    "    \n",
    "    gate_circuit = QuantumCircuit(3)\n",
    "    gate_circuit.x(0)\n",
    "    gate_circuit.ccx(0, 1, 2)\n",
    "    gate_circuit.x(0)\n",
    "    \n",
    "    gate = gate_circuit.to_gate()\n",
    "    \n",
    "    gate.label = gate_label\n",
    "    \n",
    "    return gate"
   ]
  },
  {
   "cell_type": "markdown",
   "id": "collective-country",
   "metadata": {},
   "source": [
    "### c6x(gate_label = 'C6X')\n",
    "\n",
    "Define a $CX^{\\otimes 6}$ quantum gate given by a controller and six $X$-gates. Used in phase-flip correction."
   ]
  },
  {
   "cell_type": "code",
   "execution_count": 12,
   "id": "aware-lithuania",
   "metadata": {},
   "outputs": [],
   "source": [
    "def c6x(gate_label = 'C6X'):\n",
    "    \n",
    "    gate_circuit = QuantumCircuit(7)\n",
    "    for index in range(1, 7):\n",
    "        gate_circuit.cnot(0, index)\n",
    "    \n",
    "    gate = gate_circuit.to_gate()\n",
    "    \n",
    "    gate.label = gate_label\n",
    "    \n",
    "    return gate"
   ]
  },
  {
   "cell_type": "markdown",
   "id": "textile-sandwich",
   "metadata": {},
   "source": [
    "### invccz(gate_label = 'invCCZ')\n",
    "\n",
    "Define a $\\mathrm{inv}CCZ$ quantum gate given by an inverted controller (on-state if it passes a 0, the same as $XCX$ quantum gate), a controller and a $Z$-gate. If you want a $C\\mathrm{inv}CZ$, just pass the first qubit as the second one and viceversa. Used in phase-flip correction."
   ]
  },
  {
   "cell_type": "code",
   "execution_count": 13,
   "id": "remarkable-expert",
   "metadata": {},
   "outputs": [],
   "source": [
    "def invccz(gate_label = 'invCCZ'):\n",
    "    \n",
    "    gate_circuit = QuantumCircuit(3)\n",
    "    gate_circuit.x(0)\n",
    "    gate_circuit.h(2)\n",
    "    gate_circuit.ccx(0, 1, 2)\n",
    "    gate_circuit.h(2)\n",
    "    gate_circuit.x(0)\n",
    "    \n",
    "    gate = gate_circuit.to_gate()\n",
    "    \n",
    "    gate.label = gate_label\n",
    "    \n",
    "    return gate"
   ]
  },
  {
   "cell_type": "markdown",
   "id": "dedicated-spring",
   "metadata": {},
   "source": [
    "### ccz(gate_label = 'CCZ')\n",
    "\n",
    "Define a $CCZ$ quantum gate given by two controllers and a $Z$-gate. Used in phase-flip correction."
   ]
  },
  {
   "cell_type": "code",
   "execution_count": 14,
   "id": "gentle-fraction",
   "metadata": {},
   "outputs": [],
   "source": [
    "def ccz(gate_label = 'CCZ'):\n",
    "    \n",
    "    gate_circuit = QuantumCircuit(3)\n",
    "    gate_circuit.h(2)\n",
    "    gate_circuit.ccx(0, 1, 2)\n",
    "    gate_circuit.h(2)\n",
    "    \n",
    "    gate = gate_circuit.to_gate()\n",
    "    \n",
    "    gate.label = gate_label\n",
    "    \n",
    "    return gate"
   ]
  },
  {
   "cell_type": "code",
   "execution_count": null,
   "id": "optical-filing",
   "metadata": {},
   "outputs": [],
   "source": []
  }
 ],
 "metadata": {
  "kernelspec": {
   "display_name": "Python 3",
   "language": "python",
   "name": "python3"
  },
  "language_info": {
   "codemirror_mode": {
    "name": "ipython",
    "version": 3
   },
   "file_extension": ".py",
   "mimetype": "text/x-python",
   "name": "python",
   "nbconvert_exporter": "python",
   "pygments_lexer": "ipython3",
   "version": "3.8.8"
  }
 },
 "nbformat": 4,
 "nbformat_minor": 5
}
